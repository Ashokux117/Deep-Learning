{
 "cells": [
  {
   "cell_type": "markdown",
   "id": "eb3bf4f0",
   "metadata": {},
   "source": [
    "## Hi and hello welcome to my code allong  lesson!\n",
    "Reading, writing and displaying  the image with Opencv\n"
   ]
  },
  {
   "cell_type": "code",
   "execution_count": null,
   "id": "87529819",
   "metadata": {},
   "outputs": [],
   "source": [
    " # import OpenCV library\n",
    " # Press CTRL + ENTER to run this line\n",
    "# You should see an * between the [ ] on the left\n",
    "# OpenCV takes a couple seconds to import the first time\n",
    " import cv2"
   ]
  },
  {
   "cell_type": "code",
   "execution_count": null,
   "id": "6fbb677c",
   "metadata": {},
   "outputs": [],
   "source": [
    "# Now let's import numpy\n",
    "# We use as np, so that everything we call on numpy, we can type np instead\n",
    "# It's short and looks neater\n",
    "\n",
    "import numpy as np"
   ]
  },
  {
   "cell_type": "code",
   "execution_count": null,
   "id": "608e2afd",
   "metadata": {},
   "outputs": [],
   "source": [
    "# We don't need to do this again, but it's a good habit\n",
    "import cv2 \n",
    "\n",
    "# Load an image using 'imread' specifying the path to image\n",
    "input = cv2.imread('./image_examples/elephant.jpg')\n",
    "\n",
    "# Our file 'input.jpg' is now loaded and stored in python \n",
    "# as a varaible we named 'image'\n",
    "\n",
    "# To display our image variable, we use 'imshow'\n",
    "# The first parameter will be title shown on image window\n",
    "# The second parameter is the image varialbe\n",
    "cv2.imshow('Test Elephant Image', input)\n",
    "\n",
    "# 'waitKey' allows us to input information when a image window is open\n",
    "# By leaving it blank it just waits for anykey to be pressed before \n",
    "# continuing. By placing numbers (except 0), we can specify a delay for\n",
    "# how long you keep the window open (time is in milliseconds here)\n",
    "cv2.waitKey()\n",
    "\n",
    "# This closes all open windows \n",
    "# Failure to place this will cause your program to hang\n",
    "cv2.destroyAllWindows()"
   ]
  },
  {
   "cell_type": "markdown",
   "id": "896d922f",
   "metadata": {},
   "source": [
    "## let's upload our firstimage "
   ]
  },
  {
   "cell_type": "code",
   "execution_count": 6,
   "id": "5ec70f99",
   "metadata": {},
   "outputs": [
    {
     "data": {
      "text/plain": [
       "array([[[  1,  45, 104],\n",
       "        [  1,  45, 104],\n",
       "        [  1,  45, 104],\n",
       "        ...,\n",
       "        [  0,  22,  28],\n",
       "        [  0,  22,  28],\n",
       "        [  0,  22,  28]],\n",
       "\n",
       "       [[  1,  45, 104],\n",
       "        [  1,  45, 104],\n",
       "        [  1,  45, 104],\n",
       "        ...,\n",
       "        [  0,  22,  28],\n",
       "        [  0,  22,  28],\n",
       "        [  0,  22,  28]],\n",
       "\n",
       "       [[  1,  45, 104],\n",
       "        [  1,  45, 104],\n",
       "        [  1,  45, 104],\n",
       "        ...,\n",
       "        [  0,  22,  28],\n",
       "        [  0,  22,  28],\n",
       "        [  0,  22,  28]],\n",
       "\n",
       "       ...,\n",
       "\n",
       "       [[137, 202, 200],\n",
       "        [134, 199, 197],\n",
       "        [129, 194, 192],\n",
       "        ...,\n",
       "        [ 88, 129, 121],\n",
       "        [ 89, 128, 120],\n",
       "        [ 88, 127, 119]],\n",
       "\n",
       "       [[131, 196, 194],\n",
       "        [132, 197, 195],\n",
       "        [130, 195, 193],\n",
       "        ...,\n",
       "        [ 88, 129, 121],\n",
       "        [ 90, 129, 121],\n",
       "        [ 90, 129, 121]],\n",
       "\n",
       "       [[125, 190, 188],\n",
       "        [130, 195, 193],\n",
       "        [133, 198, 196],\n",
       "        ...,\n",
       "        [ 88, 129, 121],\n",
       "        [ 90, 129, 121],\n",
       "        [ 91, 130, 122]]], shape=(640, 360, 3), dtype=uint8)"
      ]
     },
     "execution_count": 6,
     "metadata": {},
     "output_type": "execute_result"
    }
   ],
   "source": [
    "image = cv2.imread(r\"C:\\Users\\DELL\\OneDrive\\Pictures\\happyness_img\\sahid.jpg\")\n",
    "image"
   ]
  },
  {
   "cell_type": "code",
   "execution_count": 7,
   "id": "0572fb18",
   "metadata": {},
   "outputs": [],
   "source": [
    "cv2.imshow(\"Image\", image)\n",
    "cv2.waitKey(1)\n",
    "cv2.destroyAllWindows()"
   ]
  },
  {
   "cell_type": "code",
   "execution_count": 8,
   "id": "2fd08677",
   "metadata": {},
   "outputs": [],
   "source": [
    "import numpy as np"
   ]
  },
  {
   "cell_type": "code",
   "execution_count": 9,
   "id": "1d3b60e0",
   "metadata": {},
   "outputs": [
    {
     "name": "stdout",
     "output_type": "stream",
     "text": [
      "(640, 360, 3)\n"
     ]
    }
   ],
   "source": [
    "print(image.shape)"
   ]
  },
  {
   "cell_type": "code",
   "execution_count": null,
   "id": "710520ba",
   "metadata": {},
   "outputs": [
    {
     "name": "stdout",
     "output_type": "stream",
     "text": [
      "Hight the image: 640 pixels\n",
      "Width the image: 360 pixels\n"
     ]
    }
   ],
   "source": [
    "# print each dimension of the image\n",
    "print(\"Hight the image:\",int(image.shape[0]),\"pixels\")\n",
    "print(\"Width the image:\",int(image.shape[1]),\"pixels\")"
   ]
  },
  {
   "cell_type": "markdown",
   "id": "1b71499c",
   "metadata": {},
   "source": [
    "## How do we save images we edit  in opencv"
   ]
  },
  {
   "cell_type": "code",
   "execution_count": 11,
   "id": "cb927e3d",
   "metadata": {},
   "outputs": [
    {
     "data": {
      "text/plain": [
       "True"
      ]
     },
     "execution_count": 11,
     "metadata": {},
     "output_type": "execute_result"
    }
   ],
   "source": [
    "cv2.imwrite('output.JPG', image)\n",
    "cv2.imwrite('output.png', image)\n"
   ]
  },
  {
   "cell_type": "code",
   "execution_count": null,
   "id": "31795432",
   "metadata": {},
   "outputs": [],
   "source": []
  }
 ],
 "metadata": {
  "kernelspec": {
   "display_name": "Python 3",
   "language": "python",
   "name": "python3"
  },
  "language_info": {
   "codemirror_mode": {
    "name": "ipython",
    "version": 3
   },
   "file_extension": ".py",
   "mimetype": "text/x-python",
   "name": "python",
   "nbconvert_exporter": "python",
   "pygments_lexer": "ipython3",
   "version": "3.13.3"
  }
 },
 "nbformat": 4,
 "nbformat_minor": 5
}
