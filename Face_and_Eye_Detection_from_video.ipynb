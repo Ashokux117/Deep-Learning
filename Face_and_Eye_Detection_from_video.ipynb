{
 "cells": [
  {
   "cell_type": "markdown",
   "id": "82327f3e",
   "metadata": {},
   "source": [
    "## Face and Eye Detection From  Videos"
   ]
  },
  {
   "cell_type": "code",
   "execution_count": 6,
   "id": "e27a49fa",
   "metadata": {},
   "outputs": [],
   "source": [
    "# Face recogznation \n",
    "# import libraries\n",
    "import cv2\n",
    "\n",
    "\n",
    "#loading the cascade files\n",
    "eyes_classifier = cv2.CascadeClassifier(r\"C:\\Users\\DELL\\OneDrive\\Documents\\haarcascade_eye.xml\")\n",
    "face_classifier = cv2.CascadeClassifier(r\"C:\\Users\\DELL\\OneDrive\\Documents\\haarcascade_frontalface_default.xml\")\n",
    "\n",
    "#defining the function that  will do the detections\n",
    "\n",
    "def detect(gray, frame):\n",
    "    faces = face_classifier.detectMultiScale(gray, 1.3, 5)\n",
    "    for (x, y, w, h) in faces:\n",
    "        cv2.rectangle(frame, (x, y), (x + w, y + h), (255, 0, 0), 2)\n",
    "        roi_gray = gray[y:y + h, x:x + w]\n",
    "        roi_color = frame[y:y + h, x:x + w]\n",
    "        eyes = eyes_classifier.detectMultiScale(roi_gray,1.1, 3)\n",
    "        for (ex, ey, ew, eh) in eyes:\n",
    "            cv2.rectangle(roi_color, (ex, ey), (ex + ew, ey + eh), (0, 255, 0), 2)  \n",
    "    return frame\n",
    "\n",
    "# doing some face recognition from the webcam\n",
    "cap = cv2.VideoCapture(0)\n",
    "while  True:\n",
    "    ret, frame = cap.read()\n",
    "    if not ret:\n",
    "        break\n",
    "    gray = cv2.cvtColor(frame, cv2.COLOR_BGR2GRAY)\n",
    "    canvas = detect(gray, frame)\n",
    "    cv2.imshow(\"Face and Eye Detection\", canvas)\n",
    "    if cv2.waitKey(1) & 0xFF == ord('q'):\n",
    "        break   \n",
    "cap.release()\n",
    "cv2.destroyAllWindows()  \n",
    "\n",
    "\n",
    "\n"
   ]
  },
  {
   "cell_type": "code",
   "execution_count": null,
   "id": "384607c4",
   "metadata": {},
   "outputs": [],
   "source": []
  },
  {
   "cell_type": "code",
   "execution_count": null,
   "id": "bb0cba8f",
   "metadata": {},
   "outputs": [],
   "source": []
  }
 ],
 "metadata": {
  "kernelspec": {
   "display_name": "Python 3",
   "language": "python",
   "name": "python3"
  },
  "language_info": {
   "codemirror_mode": {
    "name": "ipython",
    "version": 3
   },
   "file_extension": ".py",
   "mimetype": "text/x-python",
   "name": "python",
   "nbconvert_exporter": "python",
   "pygments_lexer": "ipython3",
   "version": "3.13.3"
  }
 },
 "nbformat": 4,
 "nbformat_minor": 5
}
