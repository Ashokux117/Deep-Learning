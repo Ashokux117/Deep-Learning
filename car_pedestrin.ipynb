{
 "cells": [
  {
   "cell_type": "markdown",
   "id": "787236a5",
   "metadata": {},
   "source": [
    "## Car and pedestrin Detection\n"
   ]
  },
  {
   "cell_type": "code",
   "execution_count": null,
   "id": "201d608a",
   "metadata": {},
   "outputs": [],
   "source": [
    "\n",
    "import cv2\n",
    "import numpy as np\n",
    "\n",
    "# create our body detector\n",
    "body_classifier = cv2.CascadeClassifier(cv2.data.haarcascades + 'haarcascade_fullbody.xml')\n",
    "body_classifier\n",
    "\n",
    "cap = cv2.VideoCapture(r'C:\\Users\\DELL\\Downloads\\video.mp4')\n",
    "\n",
    "\n",
    "\n",
    "while cap.isOpened():\n",
    "    ret,frame = cap.read()\n",
    "    if ret:\n",
    "        # convert to gray scale\n",
    "        gray = cv2.cvtColor(frame, cv2.COLOR_BGR2GRAY)\n",
    "\n",
    "    \n",
    "        bodies = body_classifier.detectMultiScale(gray, 1.4, 2)\n",
    "        for (x,y,w,h) in bodies:\n",
    "            cv2.rectangle(frame, (x,y), (x+w, y+h), (0,255,255), 2)\n",
    "        cv2.imshow('Pedestrians', frame)\n",
    "            \n",
    "            \n",
    "        if cv2.waitKey(1)  == 32:\n",
    "            \n",
    "            break\n",
    "cap.release()\n",
    "cv2.destroyAllWindows()\n",
    "    "
   ]
  },
  {
   "cell_type": "markdown",
   "id": "4477f393",
   "metadata": {},
   "source": [
    "## Car Detection "
   ]
  },
  {
   "cell_type": "code",
   "execution_count": 4,
   "id": "5f3dcd4e",
   "metadata": {},
   "outputs": [],
   "source": [
    "import cv2\n",
    "import time\n",
    "import numpy as np\n",
    "\n",
    "Car_classifier = cv2.CascadeClassifier(r\"C:\\Users\\DELL\\OneDrive\\Documents\\haarcascade_car.xml\")\n",
    "\n",
    "capture = cv2.VideoCapture(r'C:\\Users\\DELL\\Downloads\\car_video.mp4')\n",
    "\n",
    "while capture.isOpened():\n",
    "    time.sleep(0.5)\n",
    "    ret, frame = capture.read()\n",
    "    if ret:\n",
    "        \n",
    "        gray = cv2.cvtColor(frame, cv2.COLOR_BGR2GRAY)\n",
    "        \n",
    "        car = Car_classifier.detectMultiScale(gray, 1.4, 2)\n",
    "        for (x,y,w,h) in car:\n",
    "            cv2.rectangle(frame, (x,y), (x+w, y+h), (0,255,255), 2)\n",
    "        cv2.imshow('Car', frame)\n",
    "        if cv2.waitKey(1) & 0xFF == ord('q'):\n",
    "               break\n",
    "capture.release()\n",
    "cv2.destroyAllWindows()\n"
   ]
  },
  {
   "cell_type": "code",
   "execution_count": null,
   "id": "ccd9fd4d",
   "metadata": {},
   "outputs": [],
   "source": []
  }
 ],
 "metadata": {
  "kernelspec": {
   "display_name": "Python 3",
   "language": "python",
   "name": "python3"
  },
  "language_info": {
   "codemirror_mode": {
    "name": "ipython",
    "version": 3
   },
   "file_extension": ".py",
   "mimetype": "text/x-python",
   "name": "python",
   "nbconvert_exporter": "python",
   "pygments_lexer": "ipython3",
   "version": "3.13.3"
  }
 },
 "nbformat": 4,
 "nbformat_minor": 5
}
